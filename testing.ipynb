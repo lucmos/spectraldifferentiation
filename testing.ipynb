{
 "cells": [
  {
   "cell_type": "code",
   "execution_count": 8,
   "metadata": {
    "ExecuteTime": {
     "end_time": "2019-11-20T10:54:52.709089Z",
     "start_time": "2019-11-20T10:54:52.704657Z"
    }
   },
   "outputs": [],
   "source": [
    "import tensorflow as tf\n",
    "import torch\n",
    "import numpy as np"
   ]
  },
  {
   "cell_type": "code",
   "execution_count": 38,
   "metadata": {
    "ExecuteTime": {
     "end_time": "2019-11-20T11:07:45.724386Z",
     "start_time": "2019-11-20T11:07:45.116947Z"
    }
   },
   "outputs": [],
   "source": [
    "m = np.random.rand(10000, 10000)"
   ]
  },
  {
   "cell_type": "code",
   "execution_count": 57,
   "metadata": {
    "ExecuteTime": {
     "end_time": "2019-11-20T11:31:52.497666Z",
     "start_time": "2019-11-20T11:31:52.219050Z"
    }
   },
   "outputs": [],
   "source": [
    "tf_dense = tf.convert_to_tensor(m)\n",
    "torch_dense = torch.as_tensor(m).requires_grad_(True)"
   ]
  },
  {
   "cell_type": "code",
   "execution_count": 58,
   "metadata": {
    "ExecuteTime": {
     "end_time": "2019-11-20T11:31:52.509087Z",
     "start_time": "2019-11-20T11:31:52.498901Z"
    }
   },
   "outputs": [
    {
     "name": "stdout",
     "output_type": "stream",
     "text": [
      "tf.Tensor(\n",
      "[[0.86811831 0.881722   0.69852798 ... 0.59969897 0.6298199  0.88126884]\n",
      " [0.78352466 0.56474207 0.97278842 ... 0.08052143 0.67444153 0.93692923]\n",
      " [0.38449655 0.29601248 0.69453924 ... 0.72261993 0.51019155 0.40803703]\n",
      " ...\n",
      " [0.61880906 0.44419511 0.79446361 ... 0.29342362 0.9685631  0.50507456]\n",
      " [0.44589419 0.7840496  0.86119082 ... 0.56705047 0.09034566 0.63058939]\n",
      " [0.67211527 0.22808715 0.80289122 ... 0.99147399 0.85212772 0.96080815]], shape=(10000, 10000), dtype=float64)\n",
      "tensor([[0.8681, 0.8817, 0.6985,  ..., 0.5997, 0.6298, 0.8813],\n",
      "        [0.7835, 0.5647, 0.9728,  ..., 0.0805, 0.6744, 0.9369],\n",
      "        [0.3845, 0.2960, 0.6945,  ..., 0.7226, 0.5102, 0.4080],\n",
      "        ...,\n",
      "        [0.6188, 0.4442, 0.7945,  ..., 0.2934, 0.9686, 0.5051],\n",
      "        [0.4459, 0.7840, 0.8612,  ..., 0.5671, 0.0903, 0.6306],\n",
      "        [0.6721, 0.2281, 0.8029,  ..., 0.9915, 0.8521, 0.9608]],\n",
      "       dtype=torch.float64, requires_grad=True)\n"
     ]
    }
   ],
   "source": [
    "print(tf_dense)\n",
    "print(torch_dense)"
   ]
  },
  {
   "cell_type": "code",
   "execution_count": 63,
   "metadata": {
    "ExecuteTime": {
     "end_time": "2019-11-20T11:36:42.427068Z",
     "start_time": "2019-11-20T11:36:42.392642Z"
    }
   },
   "outputs": [
    {
     "ename": "RuntimeError",
     "evalue": "invalid argument 4: Index tensor must have same dimensions as input tensor at /pytorch/aten/src/TH/generic/THTensorEvenMoreMath.cpp:638",
     "output_type": "error",
     "traceback": [
      "\u001b[0;31m---------------------------------------------------------------------------\u001b[0m",
      "\u001b[0;31mRuntimeError\u001b[0m                              Traceback (most recent call last)",
      "\u001b[0;32m<ipython-input-63-b8253f3256c9>\u001b[0m in \u001b[0;36m<module>\u001b[0;34m\u001b[0m\n\u001b[0;32m----> 1\u001b[0;31m \u001b[0mtorch\u001b[0m\u001b[0;34m.\u001b[0m\u001b[0mgather\u001b[0m\u001b[0;34m(\u001b[0m\u001b[0mtorch_dense\u001b[0m\u001b[0;34m,\u001b[0m \u001b[0;36m0\u001b[0m\u001b[0;34m,\u001b[0m \u001b[0mtorch\u001b[0m\u001b[0;34m.\u001b[0m\u001b[0mas_tensor\u001b[0m\u001b[0;34m(\u001b[0m\u001b[0;36m0\u001b[0m\u001b[0;34m)\u001b[0m\u001b[0;34m)\u001b[0m\u001b[0;34m.\u001b[0m\u001b[0msum\u001b[0m\u001b[0;34m(\u001b[0m\u001b[0;34m)\u001b[0m\u001b[0;34m.\u001b[0m\u001b[0mbackward\u001b[0m\u001b[0;34m(\u001b[0m\u001b[0;34m)\u001b[0m\u001b[0;34m\u001b[0m\u001b[0;34m\u001b[0m\u001b[0m\n\u001b[0m\u001b[1;32m      2\u001b[0m \u001b[0mtorch_dense\u001b[0m\u001b[0;34m.\u001b[0m\u001b[0mgrad\u001b[0m\u001b[0;34m\u001b[0m\u001b[0;34m\u001b[0m\u001b[0m\n",
      "\u001b[0;31mRuntimeError\u001b[0m: invalid argument 4: Index tensor must have same dimensions as input tensor at /pytorch/aten/src/TH/generic/THTensorEvenMoreMath.cpp:638"
     ]
    }
   ],
   "source": [
    "torch.gather(torch_dense, 0, torch.as_tensor(0)).sum().backward()\n",
    "torch_dense.grad"
   ]
  },
  {
   "cell_type": "code",
   "execution_count": 62,
   "metadata": {
    "ExecuteTime": {
     "end_time": "2019-11-20T11:36:33.714381Z",
     "start_time": "2019-11-20T11:36:33.335565Z"
    }
   },
   "outputs": [
    {
     "name": "stdout",
     "output_type": "stream",
     "text": [
      "IndexedSlices(indices=tf.Tensor([0 1], shape=(2,), dtype=int32), values=tf.Tensor(\n",
      "[[1. 1. 1. ... 1. 1. 1.]\n",
      " [1. 1. 1. ... 1. 1. 1.]], shape=(2, 10000), dtype=float64), dense_shape=tf.Tensor([10000 10000], shape=(2,), dtype=int32))\n",
      "\n",
      "tf.Tensor(\n",
      "[[1. 1. 1. ... 1. 1. 1.]\n",
      " [1. 1. 1. ... 1. 1. 1.]\n",
      " [0. 0. 0. ... 0. 0. 0.]\n",
      " ...\n",
      " [0. 0. 0. ... 0. 0. 0.]\n",
      " [0. 0. 0. ... 0. 0. 0.]\n",
      " [0. 0. 0. ... 0. 0. 0.]], shape=(10000, 10000), dtype=float64)\n"
     ]
    }
   ],
   "source": [
    "with tf.GradientTape() as gen_tape:\n",
    "    gen_tape.watch(tf_dense)\n",
    "    out = tf.reduce_sum(tf.gather(tf_dense, [0, 1]))\n",
    "\n",
    "gradients_gen = gen_tape.gradient(out, tf_dense)\n",
    "print(gradients_gen)\n",
    "print()\n",
    "print(tf.convert_to_tensor(gradients_gen))"
   ]
  },
  {
   "cell_type": "code",
   "execution_count": null,
   "metadata": {},
   "outputs": [],
   "source": []
  }
 ],
 "metadata": {
  "kernelspec": {
   "display_name": "tftorch",
   "language": "python",
   "name": "tftorch"
  },
  "language_info": {
   "codemirror_mode": {
    "name": "ipython",
    "version": 3
   },
   "file_extension": ".py",
   "mimetype": "text/x-python",
   "name": "python",
   "nbconvert_exporter": "python",
   "pygments_lexer": "ipython3",
   "version": "3.7.4"
  }
 },
 "nbformat": 4,
 "nbformat_minor": 2
}
